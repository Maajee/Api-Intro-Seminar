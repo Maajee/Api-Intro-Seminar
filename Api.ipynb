{
 "cells": [
  {
   "cell_type": "markdown",
   "metadata": {},
   "source": [
    "## API - Application Programmable Interface\n",
    "* It is a software intermediary that allows two applications to talk to each other. Each time you use an app like Facebook, send an instant message, or check the weather on your phone, you’re using an API.\n",
    "* It is a server that you can use to retrieve and send data to using code\n",
    "![Api Img](./Api.png)"
   ]
  },
  {
   "cell_type": "markdown",
   "metadata": {},
   "source": [
    "## Why API ??\n",
    "* When the size of our dataset is pretty much big!\n",
    "* The data is changing quickly - An example of this is stock price data. It doesn’t really make sense to regenerate a dataset and download it every minute — this will take a lot of bandwidth, and be pretty slow.\n",
    "\n",
    "* You want a small piece of a much larger set of data. Youtube comments are one example. What if you want to just pull your own comments on Youtube? It doesn’t make much sense to download the entire Reddit database, then filter just your own comments.\n"
   ]
  },
  {
   "cell_type": "markdown",
   "metadata": {},
   "source": [
    "## How Do I need to retrieve data From API.\n",
    "* When we want to receive data from an API, we need to make a request. Requests are used all over the web.\n",
    "*  when you visited this blog post, your web browser made a request to the Dataquest web server, which responded with the content of this web page. \n"
   ]
  },
  {
   "cell_type": "markdown",
   "metadata": {},
   "source": [
    "### Installing Requests from Python Index Packaging!\n",
    "`\n",
    "pip install requests\n",
    "`"
   ]
  },
  {
   "cell_type": "code",
   "execution_count": 22,
   "metadata": {},
   "outputs": [
    {
     "data": {
      "text/plain": [
       "<Response [404]>"
      ]
     },
     "execution_count": 22,
     "metadata": {},
     "output_type": "execute_result"
    }
   ],
   "source": [
    "import requests\n",
    "response = requests.get(\"https://randomuser.me/ap\")\n",
    "response"
   ]
  },
  {
   "cell_type": "code",
   "execution_count": 25,
   "metadata": {},
   "outputs": [
    {
     "data": {
      "text/plain": [
       "<Response [200]>"
      ]
     },
     "execution_count": 25,
     "metadata": {},
     "output_type": "execute_result"
    }
   ],
   "source": [
    "import requests\n",
    "response = requests.get(\"https://randomuser.me/api/\")\n",
    "response"
   ]
  },
  {
   "cell_type": "code",
   "execution_count": 30,
   "metadata": {},
   "outputs": [
    {
     "data": {
      "text/plain": [
       "{'results': [{'gender': 'female',\n",
       "   'name': {'title': 'Miss', 'first': 'Debbie', 'last': 'Phillips'},\n",
       "   'location': {'street': {'number': 723, 'name': 'Park Road'},\n",
       "    'city': 'Gloucester',\n",
       "    'state': 'Highlands and Islands',\n",
       "    'country': 'United Kingdom',\n",
       "    'postcode': 'QS19 2HE',\n",
       "    'coordinates': {'latitude': '6.7380', 'longitude': '89.0713'},\n",
       "    'timezone': {'offset': '+3:30', 'description': 'Tehran'}},\n",
       "   'email': 'debbie.phillips@example.com',\n",
       "   'login': {'uuid': '4b191958-005a-4716-b240-e6ad11c92317',\n",
       "    'username': 'angrytiger492',\n",
       "    'password': 'danger',\n",
       "    'salt': 'avMDfASi',\n",
       "    'md5': '30c0217ebceed837931511526a6c547f',\n",
       "    'sha1': '6d573c97493ccb0239903fd2f08a7c964bb39e42',\n",
       "    'sha256': '062352b151ff11e7bf8328feed98b873e3e5c9d74c05f960aa886ce41d776eee'},\n",
       "   'dob': {'date': '1981-10-11T13:31:48.120Z', 'age': 40},\n",
       "   'registered': {'date': '2017-06-06T20:28:08.301Z', 'age': 4},\n",
       "   'phone': '01507 747866',\n",
       "   'cell': '0797-854-613',\n",
       "   'id': {'name': 'NINO', 'value': 'NT 90 07 96 O'},\n",
       "   'picture': {'large': 'https://randomuser.me/api/portraits/women/9.jpg',\n",
       "    'medium': 'https://randomuser.me/api/portraits/med/women/9.jpg',\n",
       "    'thumbnail': 'https://randomuser.me/api/portraits/thumb/women/9.jpg'},\n",
       "   'nat': 'GB'}],\n",
       " 'info': {'seed': '10f9c94718ef2d64',\n",
       "  'results': 1,\n",
       "  'page': 1,\n",
       "  'version': '1.3'}}"
      ]
     },
     "execution_count": 30,
     "metadata": {},
     "output_type": "execute_result"
    }
   ],
   "source": [
    "data = response.json()\n",
    "data"
   ]
  },
  {
   "cell_type": "markdown",
   "metadata": {},
   "source": [
    "## API Status Codes\n",
    "* Status codes are returned with every request that is made to a web server. Status codes indicate information about what happened with a request. Here are some codes that are relevant to GET requests:\n",
    "\n",
    "* 200: Everything went okay, and the result has been returned (if any).\n",
    "* 301: The server is redirecting you to a different endpoint. This can happen when a company switches domain names, or an endpoint name is changed.\n",
    "* 400: The server thinks you made a bad request. This can happen when you don’t send along the right data, among other things.\n",
    "* 401: The server thinks you’re not authenticated. Many APIs require login ccredentials, so this happens when you don’t send the right credentials to access an API.\n",
    "* 403: The resource you’re trying to access is forbidden: you don’t have the right permissions to see it.\n",
    "* 404: The resource you tried to access wasn’t found on the server.\n",
    "* 503: The server is not ready to handle the request."
   ]
  },
  {
   "cell_type": "markdown",
   "metadata": {},
   "source": [
    "## Building a real-world Application using open whether map Api"
   ]
  },
  {
   "cell_type": "code",
   "execution_count": 3,
   "metadata": {},
   "outputs": [
    {
     "name": "stdout",
     "output_type": "stream",
     "text": [
      "Enter the city name: Trichy\n"
     ]
    },
    {
     "data": {
      "text/plain": [
       "{'coord': {'lon': 78.6988, 'lat': 10.8029},\n",
       " 'weather': [{'id': 721,\n",
       "   'main': 'Haze',\n",
       "   'description': 'haze',\n",
       "   'icon': '50d'}],\n",
       " 'base': 'stations',\n",
       " 'main': {'temp': 303.2,\n",
       "  'feels_like': 305.68,\n",
       "  'temp_min': 303.2,\n",
       "  'temp_max': 303.2,\n",
       "  'pressure': 1006,\n",
       "  'humidity': 58},\n",
       " 'visibility': 4000,\n",
       " 'wind': {'speed': 6.17, 'deg': 280},\n",
       " 'clouds': {'all': 75},\n",
       " 'dt': 1626235762,\n",
       " 'sys': {'type': 1,\n",
       "  'id': 9227,\n",
       "  'country': 'IN',\n",
       "  'sunrise': 1626222587,\n",
       "  'sunset': 1626268313},\n",
       " 'timezone': 19800,\n",
       " 'id': 7603116,\n",
       " 'name': 'Trichy',\n",
       " 'cod': 200}"
      ]
     },
     "execution_count": 3,
     "metadata": {},
     "output_type": "execute_result"
    }
   ],
   "source": [
    "import requests\n",
    "import os\n",
    "from datetime import datetime\n",
    "\n",
    "user_api = \"e31af9f4462abdba9839d05242526709\"\n",
    "location = input(\"Enter the city name: \")\n",
    "\n",
    "complete_api_link = \"https://api.openweathermap.org/data/2.5/weather?q=\"+location+\"&appid=\"+user_api\n",
    "api_link = requests.get(complete_api_link)\n",
    "api_data = api_link.json()\n",
    "api_data"
   ]
  },
  {
   "cell_type": "code",
   "execution_count": 4,
   "metadata": {},
   "outputs": [
    {
     "name": "stdout",
     "output_type": "stream",
     "text": [
      "-------------------------------------------------------------\n",
      "Weather Stats for - TRICHY  || 14 Jul 2021 | 09:40:13 AM\n",
      "-------------------------------------------------------------\n",
      "Current temperature is: 30.05 deg C\n",
      "Current weather desc  : haze\n",
      "Current Humidity      : 58 %\n",
      "Current wind speed    : 6.17 kmph\n"
     ]
    }
   ],
   "source": [
    "#create variables to store and display data\n",
    "temp_city = ((api_data['main']['temp']) - 273.15)\n",
    "weather_desc = api_data['weather'][0]['description']\n",
    "hmdt = api_data['main']['humidity']\n",
    "wind_spd = api_data['wind']['speed']\n",
    "date_time = datetime.now().strftime(\"%d %b %Y | %I:%M:%S %p\")\n",
    "\n",
    "print (\"-------------------------------------------------------------\")\n",
    "print (\"Weather Stats for - {}  || {}\".format(location.upper(), date_time))\n",
    "print (\"-------------------------------------------------------------\")\n",
    "\n",
    "print (\"Current temperature is: {:.2f} deg C\".format(temp_city))\n",
    "print (\"Current weather desc  :\",weather_desc)\n",
    "print (\"Current Humidity      :\",hmdt, '%')\n",
    "print (\"Current wind speed    :\",wind_spd ,'kmph')"
   ]
  },
  {
   "cell_type": "code",
   "execution_count": null,
   "metadata": {},
   "outputs": [],
   "source": []
  }
 ],
 "metadata": {
  "kernelspec": {
   "display_name": "Python 3",
   "language": "python",
   "name": "python3"
  },
  "language_info": {
   "codemirror_mode": {
    "name": "ipython",
    "version": 3
   },
   "file_extension": ".py",
   "mimetype": "text/x-python",
   "name": "python",
   "nbconvert_exporter": "python",
   "pygments_lexer": "ipython3",
   "version": "3.8.0"
  }
 },
 "nbformat": 4,
 "nbformat_minor": 2
}
